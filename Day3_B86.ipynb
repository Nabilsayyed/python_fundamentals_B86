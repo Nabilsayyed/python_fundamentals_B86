{
 "cells": [
  {
   "cell_type": "code",
   "execution_count": 1,
   "id": "109ef6e9",
   "metadata": {},
   "outputs": [],
   "source": [
    "#Continuation with strings:"
   ]
  },
  {
   "cell_type": "code",
   "execution_count": null,
   "id": "430086f7",
   "metadata": {},
   "outputs": [],
   "source": [
    "Understanding of f strings"
   ]
  },
  {
   "cell_type": "code",
   "execution_count": 3,
   "id": "337caa60",
   "metadata": {},
   "outputs": [],
   "source": [
    "#Genral syntax of f strings:\n"
   ]
  },
  {
   "cell_type": "code",
   "execution_count": null,
   "id": "2393c12b",
   "metadata": {},
   "outputs": [],
   "source": [
    "f\"custome message{Placeholder1}{Placeholder2.....{Placeholder n}}\""
   ]
  },
  {
   "cell_type": "code",
   "execution_count": null,
   "id": "abfdc42f",
   "metadata": {},
   "outputs": [],
   "source": []
  },
  {
   "cell_type": "code",
   "execution_count": 5,
   "id": "8983bcdc",
   "metadata": {},
   "outputs": [],
   "source": [
    "firstname= 'pradeep'\n",
    "lastname='kumar'\n"
   ]
  },
  {
   "cell_type": "code",
   "execution_count": null,
   "id": "ac872fe9",
   "metadata": {},
   "outputs": [],
   "source": [
    "#Req i: i want to get fullname:"
   ]
  },
  {
   "cell_type": "code",
   "execution_count": 14,
   "id": "937febd5",
   "metadata": {},
   "outputs": [],
   "source": [
    "fullname=f\"{firstname}  {lastname}\""
   ]
  },
  {
   "cell_type": "code",
   "execution_count": 15,
   "id": "6163124e",
   "metadata": {},
   "outputs": [
    {
     "name": "stdout",
     "output_type": "stream",
     "text": [
      "pradeep  kumar\n"
     ]
    }
   ],
   "source": [
    "print(fullname)"
   ]
  },
  {
   "cell_type": "code",
   "execution_count": 18,
   "id": "448f049e",
   "metadata": {},
   "outputs": [
    {
     "name": "stdout",
     "output_type": "stream",
     "text": [
      "Pradeep  Kumar\n"
     ]
    }
   ],
   "source": [
    "print(fullname.title())"
   ]
  },
  {
   "cell_type": "code",
   "execution_count": 19,
   "id": "7bfa3f14",
   "metadata": {},
   "outputs": [],
   "source": [
    "message=f\"keep up the good work,{firstname} {lastname}\""
   ]
  },
  {
   "cell_type": "code",
   "execution_count": 20,
   "id": "db7b8114",
   "metadata": {},
   "outputs": [
    {
     "name": "stdout",
     "output_type": "stream",
     "text": [
      "keep up the good work,pradeep kumar\n"
     ]
    }
   ],
   "source": [
    "print(message)"
   ]
  },
  {
   "cell_type": "code",
   "execution_count": null,
   "id": "a412d5e4",
   "metadata": {},
   "outputs": [],
   "source": []
  },
  {
   "cell_type": "code",
   "execution_count": 21,
   "id": "a3719d3e",
   "metadata": {},
   "outputs": [],
   "source": [
    "#Adding white spaces to strings:"
   ]
  },
  {
   "cell_type": "code",
   "execution_count": 22,
   "id": "9534662e",
   "metadata": {},
   "outputs": [
    {
     "name": "stdout",
     "output_type": "stream",
     "text": [
      "fav_language:pythonjavac++swiftscala\n"
     ]
    }
   ],
   "source": [
    "\n",
    "print(\"fav_language:pythonjavac++swiftscala\")"
   ]
  },
  {
   "cell_type": "code",
   "execution_count": null,
   "id": "f111da15",
   "metadata": {},
   "outputs": [],
   "source": [
    "#\\n for new line"
   ]
  },
  {
   "cell_type": "code",
   "execution_count": 23,
   "id": "5612a3cc",
   "metadata": {},
   "outputs": [
    {
     "name": "stdout",
     "output_type": "stream",
     "text": [
      "fav_launguage:python\n",
      "java\n",
      "c++\n",
      "swift\n",
      "scala\n"
     ]
    }
   ],
   "source": [
    "print(\"fav_launguage:python\\njava\\nc++\\nswift\\nscala\")"
   ]
  },
  {
   "cell_type": "code",
   "execution_count": 39,
   "id": "b3e42cec",
   "metadata": {},
   "outputs": [
    {
     "name": "stdout",
     "output_type": "stream",
     "text": [
      "fav_launguage:\tpython\n",
      "\tjava\n",
      "\tc++\t\n",
      "\tswift\n",
      "\tscala\t\n"
     ]
    }
   ],
   "source": [
    "print(\"fav_launguage:\\tpython\\n\\tjava\\n\\tc++\\t\\n\\tswift\\n\\tscala\\t\")"
   ]
  },
  {
   "cell_type": "code",
   "execution_count": null,
   "id": "f07ed578",
   "metadata": {},
   "outputs": [],
   "source": [
    "\\t ===> tab delimeter"
   ]
  },
  {
   "cell_type": "code",
   "execution_count": 40,
   "id": "30fe9753",
   "metadata": {},
   "outputs": [],
   "source": [
    "#Removing white spaces fron string:\n"
   ]
  },
  {
   "cell_type": "code",
   "execution_count": 41,
   "id": "08631a1a",
   "metadata": {},
   "outputs": [
    {
     "name": "stdout",
     "output_type": "stream",
     "text": [
      "python\n"
     ]
    }
   ],
   "source": [
    "name=\"python\"\n",
    "print(name)"
   ]
  },
  {
   "cell_type": "code",
   "execution_count": 44,
   "id": "1f8b5b3b",
   "metadata": {},
   "outputs": [
    {
     "name": "stdout",
     "output_type": "stream",
     "text": [
      "python          \n"
     ]
    }
   ],
   "source": [
    "name2=\"python          \"\n",
    "print(name2)"
   ]
  },
  {
   "cell_type": "code",
   "execution_count": 52,
   "id": "134b3e87",
   "metadata": {},
   "outputs": [
    {
     "name": "stdout",
     "output_type": "stream",
     "text": [
      "python\n"
     ]
    }
   ],
   "source": [
    "print(name2.rstrip())"
   ]
  },
  {
   "cell_type": "code",
   "execution_count": 46,
   "id": "2a07b689",
   "metadata": {},
   "outputs": [],
   "source": [
    "name3=\"     python\""
   ]
  },
  {
   "cell_type": "code",
   "execution_count": 51,
   "id": "1467bf38",
   "metadata": {},
   "outputs": [
    {
     "name": "stdout",
     "output_type": "stream",
     "text": [
      "python\n"
     ]
    }
   ],
   "source": [
    "print(name3.lstrip())"
   ]
  },
  {
   "cell_type": "code",
   "execution_count": 48,
   "id": "d2a63a74",
   "metadata": {},
   "outputs": [],
   "source": [
    "name4=\"     python     \""
   ]
  },
  {
   "cell_type": "code",
   "execution_count": 50,
   "id": "22a33cef",
   "metadata": {},
   "outputs": [
    {
     "name": "stdout",
     "output_type": "stream",
     "text": [
      "python\n"
     ]
    }
   ],
   "source": [
    "print(name4.strip())"
   ]
  },
  {
   "cell_type": "code",
   "execution_count": null,
   "id": "11d352e3",
   "metadata": {},
   "outputs": [],
   "source": []
  }
 ],
 "metadata": {
  "kernelspec": {
   "display_name": "Python 3 (ipykernel)",
   "language": "python",
   "name": "python3"
  },
  "language_info": {
   "codemirror_mode": {
    "name": "ipython",
    "version": 3
   },
   "file_extension": ".py",
   "mimetype": "text/x-python",
   "name": "python",
   "nbconvert_exporter": "python",
   "pygments_lexer": "ipython3",
   "version": "3.9.12"
  }
 },
 "nbformat": 4,
 "nbformat_minor": 5
}
