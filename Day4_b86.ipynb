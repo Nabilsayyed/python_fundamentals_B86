{
 "cells": [
  {
   "cell_type": "code",
   "execution_count": 2,
   "id": "eecfc0ec",
   "metadata": {},
   "outputs": [],
   "source": [
    "#Introduction to list data type:"
   ]
  },
  {
   "cell_type": "code",
   "execution_count": 3,
   "id": "63134077",
   "metadata": {},
   "outputs": [],
   "source": [
    "#Defination: A list is a collection of items in a particualr order\n",
    "#Classification: It is classified as mutable datatype.(Which can be edited or modified)\n",
    "#How to define list datatype: []"
   ]
  },
  {
   "cell_type": "code",
   "execution_count": 4,
   "id": "e995223a",
   "metadata": {},
   "outputs": [],
   "source": [
    "#Ex\n",
    "\n",
    "students=['afsha','pradeepa','naveen','prakash','muskaan','abdul']\n"
   ]
  },
  {
   "cell_type": "code",
   "execution_count": 5,
   "id": "829f35ff",
   "metadata": {},
   "outputs": [
    {
     "name": "stdout",
     "output_type": "stream",
     "text": [
      "['afsha', 'pradeepa', 'naveen', 'prakash', 'muskaan', 'abdul']\n"
     ]
    }
   ],
   "source": [
    "print(students)"
   ]
  },
  {
   "cell_type": "code",
   "execution_count": 6,
   "id": "2a67a62e",
   "metadata": {},
   "outputs": [
    {
     "data": {
      "text/plain": [
       "list"
      ]
     },
     "execution_count": 6,
     "metadata": {},
     "output_type": "execute_result"
    }
   ],
   "source": [
    "type(students)"
   ]
  },
  {
   "cell_type": "code",
   "execution_count": 8,
   "id": "d03e201b",
   "metadata": {},
   "outputs": [],
   "source": [
    "#Introduction to Indexing [0,1,2,3,4,5,.....] it will be starting from 0  onwards"
   ]
  },
  {
   "cell_type": "code",
   "execution_count": 9,
   "id": "2a143239",
   "metadata": {},
   "outputs": [],
   "source": [
    "#req i want to get name in the output...?\n"
   ]
  },
  {
   "cell_type": "code",
   "execution_count": 10,
   "id": "57b2ed8d",
   "metadata": {},
   "outputs": [
    {
     "name": "stdout",
     "output_type": "stream",
     "text": [
      "pradeepa\n"
     ]
    }
   ],
   "source": [
    "print(students[1])"
   ]
  },
  {
   "cell_type": "code",
   "execution_count": 12,
   "id": "59899556",
   "metadata": {},
   "outputs": [
    {
     "name": "stdout",
     "output_type": "stream",
     "text": [
      "Pradeepa\n"
     ]
    }
   ],
   "source": [
    "print(students[1].title())"
   ]
  },
  {
   "cell_type": "code",
   "execution_count": 13,
   "id": "ce0b1ebd",
   "metadata": {},
   "outputs": [],
   "source": [
    "#req i want to prakash name in the output..?"
   ]
  },
  {
   "cell_type": "code",
   "execution_count": 14,
   "id": "ccafa15d",
   "metadata": {},
   "outputs": [
    {
     "name": "stdout",
     "output_type": "stream",
     "text": [
      "prakash\n"
     ]
    }
   ],
   "source": [
    "print(students[3])"
   ]
  },
  {
   "cell_type": "code",
   "execution_count": 15,
   "id": "b80cecbc",
   "metadata": {},
   "outputs": [
    {
     "name": "stdout",
     "output_type": "stream",
     "text": [
      "Prakash\n"
     ]
    }
   ],
   "source": [
    "print(students[3].title())"
   ]
  },
  {
   "cell_type": "code",
   "execution_count": 16,
   "id": "1de704b6",
   "metadata": {},
   "outputs": [],
   "source": [
    "#1. How to add new element to the  list\n",
    "#2. How to modify the elements in the list\n",
    "#3.How to delete the elements in the list"
   ]
  },
  {
   "cell_type": "code",
   "execution_count": 17,
   "id": "0fb66ae2",
   "metadata": {},
   "outputs": [],
   "source": [
    "#1 req : i want to add joseph to the above list..\n"
   ]
  },
  {
   "cell_type": "code",
   "execution_count": 19,
   "id": "913cbf34",
   "metadata": {},
   "outputs": [],
   "source": [
    "students.append('joseph')"
   ]
  },
  {
   "cell_type": "code",
   "execution_count": 20,
   "id": "4ac1bcd4",
   "metadata": {},
   "outputs": [
    {
     "name": "stdout",
     "output_type": "stream",
     "text": [
      "['afsha', 'pradeepa', 'naveen', 'prakash', 'muskaan', 'abdul', 'joseph']\n"
     ]
    }
   ],
   "source": [
    "print(students)"
   ]
  },
  {
   "cell_type": "code",
   "execution_count": 21,
   "id": "5f711f12",
   "metadata": {},
   "outputs": [],
   "source": [
    "#req : i want to add santosh to above list"
   ]
  },
  {
   "cell_type": "code",
   "execution_count": 22,
   "id": "1630261f",
   "metadata": {},
   "outputs": [],
   "source": [
    "students.append('santosh')"
   ]
  },
  {
   "cell_type": "code",
   "execution_count": 23,
   "id": "456c154a",
   "metadata": {},
   "outputs": [
    {
     "name": "stdout",
     "output_type": "stream",
     "text": [
      "['afsha', 'pradeepa', 'naveen', 'prakash', 'muskaan', 'abdul', 'joseph', 'santosh']\n"
     ]
    }
   ],
   "source": [
    "print(students)"
   ]
  },
  {
   "cell_type": "code",
   "execution_count": 24,
   "id": "deedf0d1",
   "metadata": {},
   "outputs": [],
   "source": [
    "#***Inteview que diff bet insert and append***\n",
    "\n",
    "\n"
   ]
  },
  {
   "cell_type": "code",
   "execution_count": 25,
   "id": "e8c6a7f3",
   "metadata": {},
   "outputs": [],
   "source": [
    "#req : i want to add  sangheetha to 2nd position"
   ]
  },
  {
   "cell_type": "code",
   "execution_count": 26,
   "id": "0b915406",
   "metadata": {},
   "outputs": [],
   "source": [
    "students.insert(2,'sangeetha')"
   ]
  },
  {
   "cell_type": "code",
   "execution_count": 27,
   "id": "bc56b5f0",
   "metadata": {},
   "outputs": [
    {
     "name": "stdout",
     "output_type": "stream",
     "text": [
      "['afsha', 'pradeepa', 'sangeetha', 'naveen', 'prakash', 'muskaan', 'abdul', 'joseph', 'santosh']\n"
     ]
    }
   ],
   "source": [
    "print(students)"
   ]
  },
  {
   "cell_type": "code",
   "execution_count": 28,
   "id": "d11ebdc5",
   "metadata": {},
   "outputs": [],
   "source": [
    "# req i want to modify afsha name to sonam"
   ]
  },
  {
   "cell_type": "code",
   "execution_count": 29,
   "id": "c19e576f",
   "metadata": {},
   "outputs": [
    {
     "data": {
      "text/plain": [
       "'afsha'"
      ]
     },
     "execution_count": 29,
     "metadata": {},
     "output_type": "execute_result"
    }
   ],
   "source": [
    "students[0]"
   ]
  },
  {
   "cell_type": "code",
   "execution_count": 30,
   "id": "6c730e26",
   "metadata": {},
   "outputs": [],
   "source": [
    "students[0]='soname'"
   ]
  },
  {
   "cell_type": "code",
   "execution_count": 31,
   "id": "b80a1cac",
   "metadata": {},
   "outputs": [
    {
     "name": "stdout",
     "output_type": "stream",
     "text": [
      "['soname', 'pradeepa', 'sangeetha', 'naveen', 'prakash', 'muskaan', 'abdul', 'joseph', 'santosh']\n"
     ]
    }
   ],
   "source": [
    "print(students)"
   ]
  },
  {
   "cell_type": "code",
   "execution_count": 32,
   "id": "84b38d05",
   "metadata": {},
   "outputs": [],
   "source": [
    "#req: i want to delete naveen name from the list "
   ]
  },
  {
   "cell_type": "code",
   "execution_count": 33,
   "id": "29d6f188",
   "metadata": {},
   "outputs": [],
   "source": [
    "del students[3]  #it will do permanent delete"
   ]
  },
  {
   "cell_type": "code",
   "execution_count": 34,
   "id": "cf7163c7",
   "metadata": {},
   "outputs": [
    {
     "name": "stdout",
     "output_type": "stream",
     "text": [
      "['soname', 'pradeepa', 'sangeetha', 'prakash', 'muskaan', 'abdul', 'joseph', 'santosh']\n"
     ]
    }
   ],
   "source": [
    "print(students)"
   ]
  },
  {
   "cell_type": "code",
   "execution_count": null,
   "id": "83cfcbf4",
   "metadata": {},
   "outputs": [],
   "source": []
  },
  {
   "cell_type": "code",
   "execution_count": 36,
   "id": "a867261b",
   "metadata": {},
   "outputs": [],
   "source": [
    "# temp deleting the elements using pop method:\n",
    "#pop will be default deleting the last element in the list"
   ]
  },
  {
   "cell_type": "code",
   "execution_count": 37,
   "id": "5c37377b",
   "metadata": {},
   "outputs": [
    {
     "name": "stdout",
     "output_type": "stream",
     "text": [
      "['soname', 'pradeepa', 'sangeetha', 'prakash', 'muskaan', 'abdul', 'joseph', 'santosh']\n"
     ]
    }
   ],
   "source": [
    "print(students)"
   ]
  },
  {
   "cell_type": "code",
   "execution_count": 38,
   "id": "fe279807",
   "metadata": {},
   "outputs": [],
   "source": [
    "x= students.pop()"
   ]
  },
  {
   "cell_type": "code",
   "execution_count": 39,
   "id": "262f8429",
   "metadata": {},
   "outputs": [
    {
     "name": "stdout",
     "output_type": "stream",
     "text": [
      "['soname', 'pradeepa', 'sangeetha', 'prakash', 'muskaan', 'abdul', 'joseph']\n"
     ]
    }
   ],
   "source": [
    "print(students)"
   ]
  },
  {
   "cell_type": "code",
   "execution_count": 40,
   "id": "ab4be4c6",
   "metadata": {},
   "outputs": [
    {
     "name": "stdout",
     "output_type": "stream",
     "text": [
      "santosh\n"
     ]
    }
   ],
   "source": [
    "print(x)"
   ]
  },
  {
   "cell_type": "code",
   "execution_count": 41,
   "id": "8b70e4f9",
   "metadata": {},
   "outputs": [],
   "source": [
    "#********INTERVIEW QUE WHAT IS DIFF BET DELETE AND POP METHODS IN A LIST"
   ]
  },
  {
   "cell_type": "code",
   "execution_count": null,
   "id": "e14cab8c",
   "metadata": {},
   "outputs": [],
   "source": []
  }
 ],
 "metadata": {
  "kernelspec": {
   "display_name": "Python 3 (ipykernel)",
   "language": "python",
   "name": "python3"
  },
  "language_info": {
   "codemirror_mode": {
    "name": "ipython",
    "version": 3
   },
   "file_extension": ".py",
   "mimetype": "text/x-python",
   "name": "python",
   "nbconvert_exporter": "python",
   "pygments_lexer": "ipython3",
   "version": "3.9.12"
  }
 },
 "nbformat": 4,
 "nbformat_minor": 5
}
