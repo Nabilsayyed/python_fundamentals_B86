{
 "cells": [
  {
   "cell_type": "code",
   "execution_count": 1,
   "id": "4cf6b3e5",
   "metadata": {},
   "outputs": [],
   "source": [
    "#Continuetion with list data type:\n"
   ]
  },
  {
   "cell_type": "code",
   "execution_count": 2,
   "id": "33c87d85",
   "metadata": {},
   "outputs": [],
   "source": [
    "#Organizing list data type"
   ]
  },
  {
   "cell_type": "code",
   "execution_count": 3,
   "id": "c3478124",
   "metadata": {},
   "outputs": [],
   "source": [
    "cars=['maruthi','kia','benz','suzuki','audi','toyota','bmw']"
   ]
  },
  {
   "cell_type": "code",
   "execution_count": 4,
   "id": "fb9f7a17",
   "metadata": {},
   "outputs": [
    {
     "name": "stdout",
     "output_type": "stream",
     "text": [
      "['maruthi', 'kia', 'benz', 'suzuki', 'audi', 'toyota', 'bmw']\n"
     ]
    }
   ],
   "source": [
    "print(cars)"
   ]
  },
  {
   "cell_type": "code",
   "execution_count": 5,
   "id": "e295b553",
   "metadata": {},
   "outputs": [
    {
     "data": {
      "text/plain": [
       "list"
      ]
     },
     "execution_count": 5,
     "metadata": {},
     "output_type": "execute_result"
    }
   ],
   "source": [
    "type(cars)"
   ]
  },
  {
   "cell_type": "code",
   "execution_count": 6,
   "id": "1a05e860",
   "metadata": {},
   "outputs": [],
   "source": [
    "#Req i want to organize the list into alphabetical order."
   ]
  },
  {
   "cell_type": "code",
   "execution_count": 7,
   "id": "b498650d",
   "metadata": {},
   "outputs": [],
   "source": [
    "#APPROCHES\n",
    "\n",
    "#1 Temporrary Approach : ========> sorted() ==> we will be having the original order of the list created.\n",
    "#2 Permanent Approach : =========> sort()  ==>  changes are implied permanently."
   ]
  },
  {
   "cell_type": "code",
   "execution_count": 8,
   "id": "7898d46f",
   "metadata": {},
   "outputs": [
    {
     "name": "stdout",
     "output_type": "stream",
     "text": [
      "['audi', 'benz', 'bmw', 'kia', 'maruthi', 'suzuki', 'toyota']\n"
     ]
    }
   ],
   "source": [
    "print(sorted(cars))"
   ]
  },
  {
   "cell_type": "code",
   "execution_count": 9,
   "id": "685b62c1",
   "metadata": {},
   "outputs": [],
   "source": [
    "#Audi , benz , bmw"
   ]
  },
  {
   "cell_type": "code",
   "execution_count": 10,
   "id": "6ab0c1c8",
   "metadata": {},
   "outputs": [
    {
     "name": "stdout",
     "output_type": "stream",
     "text": [
      "['maruthi', 'kia', 'benz', 'suzuki', 'audi', 'toyota', 'bmw']\n"
     ]
    }
   ],
   "source": [
    "print(cars)"
   ]
  },
  {
   "cell_type": "code",
   "execution_count": 14,
   "id": "46a1963f",
   "metadata": {},
   "outputs": [],
   "source": [
    "cars.sort()"
   ]
  },
  {
   "cell_type": "code",
   "execution_count": 15,
   "id": "2b1dd397",
   "metadata": {},
   "outputs": [
    {
     "name": "stdout",
     "output_type": "stream",
     "text": [
      "['audi', 'benz', 'bmw', 'kia', 'maruthi', 'suzuki', 'toyota']\n"
     ]
    }
   ],
   "source": [
    "print(cars)"
   ]
  },
  {
   "cell_type": "code",
   "execution_count": 17,
   "id": "62e86a25",
   "metadata": {},
   "outputs": [
    {
     "name": "stdout",
     "output_type": "stream",
     "text": [
      "['audi', 'benz', 'bmw', 'kia', 'maruthi', 'suzuki', 'toyota']\n"
     ]
    }
   ],
   "source": [
    "print(cars) #A-Z"
   ]
  },
  {
   "cell_type": "code",
   "execution_count": 19,
   "id": "5fc94ee1",
   "metadata": {},
   "outputs": [],
   "source": [
    "#benz and bmw ====> b, be, m"
   ]
  },
  {
   "cell_type": "code",
   "execution_count": 20,
   "id": "e61bbe47",
   "metadata": {},
   "outputs": [],
   "source": [
    "#INTERVIEW QUESTION : WHAT IS THE DIFF BETN SORTED AND SORT METHODS IN A LIST....?"
   ]
  },
  {
   "cell_type": "code",
   "execution_count": 21,
   "id": "fa86c8d1",
   "metadata": {},
   "outputs": [],
   "source": [
    "#Req i want to print the list in the reverse order====> A-Z ----- Z-A (reverse())"
   ]
  },
  {
   "cell_type": "code",
   "execution_count": 23,
   "id": "a99fd552",
   "metadata": {},
   "outputs": [],
   "source": [
    "cars.reverse()"
   ]
  },
  {
   "cell_type": "code",
   "execution_count": 24,
   "id": "501de45d",
   "metadata": {},
   "outputs": [
    {
     "name": "stdout",
     "output_type": "stream",
     "text": [
      "['toyota', 'suzuki', 'maruthi', 'kia', 'bmw', 'benz', 'audi']\n"
     ]
    }
   ],
   "source": [
    "print(cars)"
   ]
  },
  {
   "cell_type": "code",
   "execution_count": 25,
   "id": "474edc3e",
   "metadata": {},
   "outputs": [],
   "source": [
    "# i want the total count of the element "
   ]
  },
  {
   "cell_type": "code",
   "execution_count": 26,
   "id": "717a9e99",
   "metadata": {},
   "outputs": [
    {
     "data": {
      "text/plain": [
       "7"
      ]
     },
     "execution_count": 26,
     "metadata": {},
     "output_type": "execute_result"
    }
   ],
   "source": [
    "len(cars)"
   ]
  },
  {
   "cell_type": "code",
   "execution_count": null,
   "id": "a4458ec1",
   "metadata": {},
   "outputs": [],
   "source": []
  },
  {
   "cell_type": "code",
   "execution_count": 27,
   "id": "e892345c",
   "metadata": {},
   "outputs": [],
   "source": [
    "#INTRODUCTION TO SLICING :\n",
    "\n",
    "#Genral syntax for slicing:\n",
    "\n",
    "#(start_value:stop_value:step_count)\n",
    "\n",
    "\n",
    "\n",
    "# NOTE : STOP_VALUE WILL BE ALWAYS EXCLUSIVE, TO INCLUDE WE HAVE TO INCREAMENT THE INDEX BY +1."
   ]
  },
  {
   "cell_type": "code",
   "execution_count": null,
   "id": "e8663463",
   "metadata": {},
   "outputs": [],
   "source": []
  },
  {
   "cell_type": "code",
   "execution_count": 30,
   "id": "92ca343d",
   "metadata": {},
   "outputs": [],
   "source": [
    "students=['diksha','sonam','naveen','pradeep','abdul','nahid','afsha','muskaan']"
   ]
  },
  {
   "cell_type": "code",
   "execution_count": 31,
   "id": "be2610a3",
   "metadata": {},
   "outputs": [
    {
     "name": "stdout",
     "output_type": "stream",
     "text": [
      "['diksha', 'sonam', 'naveen', 'pradeep', 'abdul', 'nahid', 'afsha', 'muskaan']\n"
     ]
    }
   ],
   "source": [
    "print(students)"
   ]
  },
  {
   "cell_type": "code",
   "execution_count": 32,
   "id": "9121186d",
   "metadata": {},
   "outputs": [],
   "source": [
    "# req i want to get diksha and sonam in a slice\n"
   ]
  },
  {
   "cell_type": "code",
   "execution_count": 33,
   "id": "578c319c",
   "metadata": {},
   "outputs": [
    {
     "name": "stdout",
     "output_type": "stream",
     "text": [
      "['diksha']\n"
     ]
    }
   ],
   "source": [
    "print(students[0:1])"
   ]
  },
  {
   "cell_type": "code",
   "execution_count": 35,
   "id": "e9fb69bf",
   "metadata": {},
   "outputs": [
    {
     "name": "stdout",
     "output_type": "stream",
     "text": [
      "['diksha', 'sonam']\n"
     ]
    }
   ],
   "source": [
    "print(students[0:2])"
   ]
  },
  {
   "cell_type": "code",
   "execution_count": 36,
   "id": "ae3257d0",
   "metadata": {},
   "outputs": [],
   "source": [
    "# req i want to get naveen and pradeep"
   ]
  },
  {
   "cell_type": "code",
   "execution_count": 37,
   "id": "f5b7f21e",
   "metadata": {},
   "outputs": [
    {
     "name": "stdout",
     "output_type": "stream",
     "text": [
      "['naveen', 'pradeep']\n"
     ]
    }
   ],
   "source": [
    "print(students[2:4])"
   ]
  },
  {
   "cell_type": "code",
   "execution_count": 47,
   "id": "829bc854",
   "metadata": {},
   "outputs": [],
   "source": [
    "# step_count"
   ]
  },
  {
   "cell_type": "code",
   "execution_count": 49,
   "id": "5a7dbd85",
   "metadata": {},
   "outputs": [
    {
     "name": "stdout",
     "output_type": "stream",
     "text": [
      "['diksha', 'naveen', 'abdul', 'afsha']\n"
     ]
    }
   ],
   "source": [
    "print(students[0:9:2])"
   ]
  },
  {
   "cell_type": "code",
   "execution_count": null,
   "id": "ea293efa",
   "metadata": {},
   "outputs": [],
   "source": []
  }
 ],
 "metadata": {
  "kernelspec": {
   "display_name": "Python 3 (ipykernel)",
   "language": "python",
   "name": "python3"
  },
  "language_info": {
   "codemirror_mode": {
    "name": "ipython",
    "version": 3
   },
   "file_extension": ".py",
   "mimetype": "text/x-python",
   "name": "python",
   "nbconvert_exporter": "python",
   "pygments_lexer": "ipython3",
   "version": "3.9.12"
  }
 },
 "nbformat": 4,
 "nbformat_minor": 5
}
