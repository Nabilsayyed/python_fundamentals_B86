{
 "cells": [
  {
   "cell_type": "code",
   "execution_count": 1,
   "id": "0f4c042e",
   "metadata": {},
   "outputs": [],
   "source": [
    "#Introduction to python programming"
   ]
  },
  {
   "cell_type": "code",
   "execution_count": 2,
   "id": "b313b48f",
   "metadata": {},
   "outputs": [],
   "source": [
    "#Understanding variables in python:"
   ]
  },
  {
   "cell_type": "code",
   "execution_count": 3,
   "id": "542ce736",
   "metadata": {},
   "outputs": [],
   "source": [
    "x=2\n",
    "y=3"
   ]
  },
  {
   "cell_type": "code",
   "execution_count": 4,
   "id": "9eb106bd",
   "metadata": {},
   "outputs": [
    {
     "name": "stdout",
     "output_type": "stream",
     "text": [
      "5\n"
     ]
    }
   ],
   "source": [
    "z=x+y\n",
    "print(z)"
   ]
  },
  {
   "cell_type": "code",
   "execution_count": 5,
   "id": "0e1c7be6",
   "metadata": {},
   "outputs": [],
   "source": [
    "#variables are nothing but block of code"
   ]
  },
  {
   "cell_type": "code",
   "execution_count": 6,
   "id": "85ba0a0b",
   "metadata": {},
   "outputs": [],
   "source": [
    "#rules for declaring the variables\n"
   ]
  },
  {
   "cell_type": "code",
   "execution_count": 7,
   "id": "aa08a291",
   "metadata": {},
   "outputs": [],
   "source": [
    "#Rule1 : No name spaces while declaring the variable"
   ]
  },
  {
   "cell_type": "code",
   "execution_count": 8,
   "id": "63e6eb9a",
   "metadata": {},
   "outputs": [
    {
     "ename": "SyntaxError",
     "evalue": "invalid syntax (2895769863.py, line 2)",
     "output_type": "error",
     "traceback": [
      "\u001b[1;36m  Input \u001b[1;32mIn [8]\u001b[1;36m\u001b[0m\n\u001b[1;33m    First name='sandeep'\u001b[0m\n\u001b[1;37m          ^\u001b[0m\n\u001b[1;31mSyntaxError\u001b[0m\u001b[1;31m:\u001b[0m invalid syntax\n"
     ]
    }
   ],
   "source": [
    "#ex\n",
    "First name='sandeep'"
   ]
  },
  {
   "cell_type": "code",
   "execution_count": 9,
   "id": "655ccfcc",
   "metadata": {},
   "outputs": [],
   "source": [
    "firstname='sandeep'"
   ]
  },
  {
   "cell_type": "code",
   "execution_count": 10,
   "id": "a5c0e59c",
   "metadata": {},
   "outputs": [],
   "source": [
    "\n",
    "#Rule2: A variable should not start with the numbers/integers.\n"
   ]
  },
  {
   "cell_type": "code",
   "execution_count": 11,
   "id": "7fb40777",
   "metadata": {},
   "outputs": [
    {
     "ename": "SyntaxError",
     "evalue": "invalid syntax (1760382611.py, line 2)",
     "output_type": "error",
     "traceback": [
      "\u001b[1;36m  Input \u001b[1;32mIn [11]\u001b[1;36m\u001b[0m\n\u001b[1;33m    1name='jhansi'\u001b[0m\n\u001b[1;37m     ^\u001b[0m\n\u001b[1;31mSyntaxError\u001b[0m\u001b[1;31m:\u001b[0m invalid syntax\n"
     ]
    }
   ],
   "source": [
    "#ex\n",
    "1name='jhansi'"
   ]
  },
  {
   "cell_type": "code",
   "execution_count": 12,
   "id": "3e832ab9",
   "metadata": {},
   "outputs": [],
   "source": [
    "name1='Sandeep'"
   ]
  },
  {
   "cell_type": "code",
   "execution_count": 13,
   "id": "e964ad97",
   "metadata": {},
   "outputs": [
    {
     "name": "stdout",
     "output_type": "stream",
     "text": [
      "Sandeep\n"
     ]
    }
   ],
   "source": [
    "print(name1)"
   ]
  },
  {
   "cell_type": "code",
   "execution_count": 14,
   "id": "127c7038",
   "metadata": {},
   "outputs": [],
   "source": [
    "#Rule3: A variable should not start with speacial characters."
   ]
  },
  {
   "cell_type": "code",
   "execution_count": 15,
   "id": "19421f0e",
   "metadata": {},
   "outputs": [
    {
     "ename": "NameError",
     "evalue": "name 'name' is not defined",
     "output_type": "error",
     "traceback": [
      "\u001b[1;31m---------------------------------------------------------------------------\u001b[0m",
      "\u001b[1;31mNameError\u001b[0m                                 Traceback (most recent call last)",
      "Input \u001b[1;32mIn [15]\u001b[0m, in \u001b[0;36m<cell line: 2>\u001b[1;34m()\u001b[0m\n\u001b[0;32m      1\u001b[0m \u001b[38;5;66;03m#ex\u001b[39;00m\n\u001b[1;32m----> 2\u001b[0m name\u001b[38;5;241m@\u001b[39m\u001b[38;5;241m=\u001b[39m\u001b[38;5;124m'\u001b[39m\u001b[38;5;124mSandeep\u001b[39m\u001b[38;5;124m'\u001b[39m\n",
      "\u001b[1;31mNameError\u001b[0m: name 'name' is not defined"
     ]
    }
   ],
   "source": [
    "#ex\n",
    "name@='Sandeep'"
   ]
  },
  {
   "cell_type": "code",
   "execution_count": 16,
   "id": "3e100529",
   "metadata": {},
   "outputs": [],
   "source": [
    "#Introduction to datatypes in python"
   ]
  },
  {
   "cell_type": "code",
   "execution_count": null,
   "id": "86d2d3b8",
   "metadata": {},
   "outputs": [],
   "source": [
    "1.String ===> str\n",
    "2.Number ====> integers and floats\n",
    "3.List ====> list\n",
    "4.tuples =====> tuple\n",
    "5.Dictionary ====> dict"
   ]
  },
  {
   "cell_type": "code",
   "execution_count": 17,
   "id": "b08b364a",
   "metadata": {},
   "outputs": [],
   "source": [
    "#Classification of Datatypes"
   ]
  },
  {
   "cell_type": "code",
   "execution_count": null,
   "id": "52e64430",
   "metadata": {},
   "outputs": [],
   "source": [
    "1. Mutable datatype ====>which can be able to alter/edit and flexible in nature\n",
    "2. Immutable datatype =====>which can not be edited and alter Fixed in nature."
   ]
  },
  {
   "cell_type": "code",
   "execution_count": 18,
   "id": "a8a48af6",
   "metadata": {},
   "outputs": [],
   "source": [
    "# Introduction to string datatype:\n",
    "A string is a series of character declared in quotes\n",
    "classification : it is classified as immutable datatype\n",
    "#How to define sring:\n",
    "1.single quote\n",
    "2.double quote\n",
    "\n",
    "#ex\n",
    "name='sandeep'\n",
    "name2=\"sandeep\""
   ]
  },
  {
   "cell_type": "code",
   "execution_count": null,
   "id": "889aaa8d",
   "metadata": {},
   "outputs": [],
   "source": [
    "#Introduction to string methods:\n",
    "1.type()\n",
    "2.title()"
   ]
  },
  {
   "cell_type": "code",
   "execution_count": 19,
   "id": "ac8f1281",
   "metadata": {},
   "outputs": [
    {
     "data": {
      "text/plain": [
       "str"
      ]
     },
     "execution_count": 19,
     "metadata": {},
     "output_type": "execute_result"
    }
   ],
   "source": [
    "#ex:\n",
    "fullname='sandeep'\n",
    "type(fullname)"
   ]
  },
  {
   "cell_type": "code",
   "execution_count": 20,
   "id": "45310f7c",
   "metadata": {},
   "outputs": [
    {
     "name": "stdout",
     "output_type": "stream",
     "text": [
      "Sandeep Singh\n"
     ]
    }
   ],
   "source": [
    "#ex:\n",
    "fullname=\"sandeep singh\"\n",
    "print(fullname.title())"
   ]
  },
  {
   "cell_type": "code",
   "execution_count": 21,
   "id": "2218c1b4",
   "metadata": {},
   "outputs": [],
   "source": [
    "#req i want to convert the entire name in capital letters.\n"
   ]
  },
  {
   "cell_type": "code",
   "execution_count": 22,
   "id": "d46695aa",
   "metadata": {},
   "outputs": [
    {
     "name": "stdout",
     "output_type": "stream",
     "text": [
      "SANDEEP\n"
     ]
    }
   ],
   "source": [
    "#ex:\n",
    "fullname='sandeep'\n",
    "print(fullname.upper())"
   ]
  },
  {
   "cell_type": "code",
   "execution_count": 23,
   "id": "6294445b",
   "metadata": {},
   "outputs": [
    {
     "name": "stdout",
     "output_type": "stream",
     "text": [
      "sandeep\n"
     ]
    }
   ],
   "source": [
    "#for lower case\n",
    "#ex:\n",
    "fullname='SANDEEP'\n",
    "print(fullname.lower())"
   ]
  },
  {
   "cell_type": "code",
   "execution_count": null,
   "id": "4f38e7c3",
   "metadata": {},
   "outputs": [],
   "source": []
  }
 ],
 "metadata": {
  "kernelspec": {
   "display_name": "Python 3 (ipykernel)",
   "language": "python",
   "name": "python3"
  },
  "language_info": {
   "codemirror_mode": {
    "name": "ipython",
    "version": 3
   },
   "file_extension": ".py",
   "mimetype": "text/x-python",
   "name": "python",
   "nbconvert_exporter": "python",
   "pygments_lexer": "ipython3",
   "version": "3.9.12"
  }
 },
 "nbformat": 4,
 "nbformat_minor": 5
}
